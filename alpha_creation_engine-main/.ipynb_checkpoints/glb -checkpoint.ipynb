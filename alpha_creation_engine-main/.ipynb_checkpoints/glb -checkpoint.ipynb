{
 "cells": [
  {
   "cell_type": "code",
   "execution_count": null,
   "id": "1edbfe31-6da4-4079-bd1e-2b83f5dce912",
   "metadata": {},
   "outputs": [],
   "source": [
    "import ace_lib as ace\n",
    "import helpful_functions as hf\n",
    "import pandas as pd\n",
    "import requests\n",
    "import plotly.express as px"
   ]
  },
  {
   "cell_type": "code",
   "execution_count": null,
   "id": "0ed504e8-8200-4a5e-b7ea-fae8e4e2e57f",
   "metadata": {},
   "outputs": [],
   "source": [
    "s = ace.start_session()"
   ]
  },
  {
   "cell_type": "code",
   "execution_count": null,
   "id": "b1848af8-3004-4339-94ff-05a855243e4b",
   "metadata": {},
   "outputs": [],
   "source": [
    "datafields_df = hf.get_datafields(s, region=\"GLB\", universe=\"MINVOL1M\", delay=1) # by default we load all datasets USA TOP3000 delay 1\n",
    "len(datafields_df.head()) # DataFrame.head() shows first 5 rows of the dataframe "
   ]
  },
  {
   "cell_type": "code",
   "execution_count": null,
   "id": "a4769293-1c64-407d-a2ff-d873d9e46c82",
   "metadata": {},
   "outputs": [],
   "source": [
    "datafields_df_vector = datafields_df[datafields_df[\"type\"] == \"VECTOR\"]\n",
    "datafields_df_matrix = datafields_df[datafields_df[\"type\"] == \"MATRIX\"]\n",
    "\n",
    "# Sort datafields by alphaCount in descending order\n",
    "datafields_df_matrix = datafields_df_matrix.sort_values(by=\"alphaCount\", ascending=False)\n",
    "datafields_df_vector = datafields_df_vector.sort_values(by=\"alphaCount\", ascending=False)\n",
    "\n",
    "# Display the length of each datafield type\n",
    "print(len(datafields_df_vector))\n",
    "print(len(datafields_df_matrix))"
   ]
  },
  {
   "cell_type": "code",
   "execution_count": null,
   "id": "5e1811dc-9b9a-4daa-a1d2-e6f74dc803f6",
   "metadata": {},
   "outputs": [],
   "source": [
    "\n",
    "li = datafields_df_matrix.id.values.tolist()\n",
    "len(li)"
   ]
  },
  {
   "cell_type": "code",
   "execution_count": null,
   "id": "011fa743-a517-4ec3-81cc-f2ae123c537f",
   "metadata": {},
   "outputs": [],
   "source": [
    "expressions = [\n",
    "   \"-ts_rank(ts_decay_exp_window({},252),252)+ts_rank(oth176_lmt_close_eq_score,252) \"\n",
    "    \n",
    "  \n",
    "]"
   ]
  },
  {
   "cell_type": "code",
   "execution_count": null,
   "id": "1e1f7459-1fd9-4cfe-9e2d-9bbae23ff369",
   "metadata": {},
   "outputs": [],
   "source": [
    "count = 0\n",
    "for i in li:\n",
    "    for expr in expressions:\n",
    "        try:\n",
    "            count = count + 1\n",
    "            print(count)\n",
    "            \n",
    "            simulate_data = {\n",
    "                \"type\": \"REGULAR\",\n",
    "                \"settings\": {\n",
    "                    \"instrumentType\": \"EQUITY\",\n",
    "                    \"region\": \"GLB\",\n",
    "                    \"universe\": \"MINVOL1M\",\n",
    "                    \"delay\": 1,\n",
    "                    \"decay\": 0,\n",
    "                    \"neutralization\": \"SUBINDUSTRY\",\n",
    "                    \"truncation\": 0.08,\n",
    "                    \"pasteurization\": \"ON\",\n",
    "                    \"unitHandling\": \"VERIFY\",\n",
    "                    \"nanHandling\": \"OFF\",\n",
    "                    \"language\": \"FASTEXPR\",\n",
    "                    \"visualization\": False\n",
    "                },\n",
    "                \"regular\": expr.format(i)\n",
    "            }\n",
    "            \n",
    "            simulate_response = s.post('https://api.worldquantbrain.com/simulations', json=simulate_data)\n",
    "            print(simulate_data)\n",
    "            print(simulate_response)\n",
    "    \n",
    "            \n",
    "            simulation_progress_url = simulate_response.headers['Location']\n",
    "            print(simulation_progress_url)\n",
    "            finished = False\n",
    "            \n",
    "            while True:\n",
    "                simulation_progress = s.get(simulation_progress_url)\n",
    "              \n",
    "                print('x')\n",
    "                if simulation_progress.headers.get(\"Retry-After\", 0) == 0:\n",
    "                    break\n",
    "                sleep(float(simulation_progress.headers[\"Retry-After\"]))\n",
    "                \n",
    "        except Exception as e:\n",
    "            print(e)\n",
    "        \n",
    " "
   ]
  }
 ],
 "metadata": {
  "kernelspec": {
   "display_name": "Python 3 (ipykernel)",
   "language": "python",
   "name": "python3"
  },
  "language_info": {
   "codemirror_mode": {
    "name": "ipython",
    "version": 3
   },
   "file_extension": ".py",
   "mimetype": "text/x-python",
   "name": "python",
   "nbconvert_exporter": "python",
   "pygments_lexer": "ipython3",
   "version": "3.11.7"
  }
 },
 "nbformat": 4,
 "nbformat_minor": 5
}
